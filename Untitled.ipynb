{
 "cells": [
  {
   "cell_type": "code",
   "execution_count": 1,
   "metadata": {},
   "outputs": [],
   "source": [
    "import pandas as pd\n",
    "from sklearn.model_selection import GridSearchCV\n",
    "import matplotlib.pyplot as plt\n",
    "import numpy as np\n",
    "from sklearn.naive_bayes import GaussianNB\n",
    "from sklearn.linear_model import LogisticRegression"
   ]
  },
  {
   "cell_type": "code",
   "execution_count": 2,
   "metadata": {},
   "outputs": [],
   "source": [
    "x_train = pd.read_csv(\"train.csv\")"
   ]
  },
  {
   "cell_type": "code",
   "execution_count": 3,
   "metadata": {},
   "outputs": [],
   "source": [
    "x_train , x_test = x_train[0:623].reset_index(drop=True) , x_train[624:891].reset_index(drop=True)"
   ]
  },
  {
   "cell_type": "code",
   "execution_count": 4,
   "metadata": {},
   "outputs": [],
   "source": [
    "y_test = x_test['Survived']\n",
    "y_train = x_train['Survived']"
   ]
  },
  {
   "cell_type": "code",
   "execution_count": 5,
   "metadata": {},
   "outputs": [],
   "source": [
    "def masFilter(mas):\n",
    "    mas = mas[[\"PassengerId\",\"Sex\",\"Age\"]].copy()\n",
    "    mas['Age'].fillna(mas['Age'].median(), inplace=True)\n",
    "    mas['Sex'] = pd.factorize(mas['Sex'])[0]\n",
    "    return mas"
   ]
  },
  {
   "cell_type": "code",
   "execution_count": 6,
   "metadata": {},
   "outputs": [],
   "source": [
    "x_tr = masFilter(x_train)\n",
    "x_te = masFilter(x_test)\n",
    "x_train = x_tr[[\"Sex\",\"Age\"]].copy()\n",
    "x_test = x_te[[\"Sex\",\"Age\"]].copy()"
   ]
  },
  {
   "cell_type": "raw",
   "metadata": {},
   "source": [
    "GaussianNB(priors=[0.1,0.9]).fit(x_train, y_train)"
   ]
  },
  {
   "cell_type": "code",
   "execution_count": 7,
   "metadata": {},
   "outputs": [],
   "source": [
    "paramsGNB = {\n",
    "        \"priors\":[[0.1,0.9],[0.2,0.8],[0.001,0.999],[0.5,0.5],[0.6,0.4],[0.49,0.51]],\n",
    "          \"var_smoothing\" : [1e-12, 1e-11, 1e-10, 1e-9, 1e-8, 1e-7, 1e-6, 1e-5, 1e-4]\n",
    "}\n",
    "paramsLR={\"C\":np.logspace(-3,3,7), \"penalty\":[\"l1\",\"l2\"]}"
   ]
  },
  {
   "cell_type": "code",
   "execution_count": 8,
   "metadata": {},
   "outputs": [],
   "source": [
    "import multiprocessing\n",
    "cores=multiprocessing.cpu_count()-2"
   ]
  },
  {
   "cell_type": "code",
   "execution_count": 9,
   "metadata": {},
   "outputs": [
    {
     "name": "stdout",
     "output_type": "stream",
     "text": [
      "Fitting 10 folds for each of 54 candidates, totalling 540 fits\n"
     ]
    },
    {
     "name": "stderr",
     "output_type": "stream",
     "text": [
      "[Parallel(n_jobs=6)]: Using backend LokyBackend with 6 concurrent workers.\n",
      "[Parallel(n_jobs=6)]: Done  33 tasks      | elapsed:    1.3s\n",
      "[Parallel(n_jobs=6)]: Done 540 out of 540 | elapsed:    2.1s finished\n",
      "/home/emedvedev/.local/lib64/python3.6/site-packages/sklearn/model_selection/_search.py:814: DeprecationWarning: The default of the `iid` parameter will change from True to False in version 0.22 and will be removed in 0.24. This will change numeric results when test-set sizes are unequal.\n",
      "  DeprecationWarning)\n"
     ]
    },
    {
     "data": {
      "text/plain": [
       "GridSearchCV(cv=10, error_score='raise-deprecating',\n",
       "             estimator=GaussianNB(priors=None, var_smoothing=1e-09), iid='warn',\n",
       "             n_jobs=6,\n",
       "             param_grid={'priors': [[0.1, 0.9], [0.2, 0.8], [0.001, 0.999],\n",
       "                                    [0.5, 0.5], [0.6, 0.4], [0.49, 0.51]],\n",
       "                         'var_smoothing': [1e-12, 1e-11, 1e-10, 1e-09, 1e-08,\n",
       "                                           1e-07, 1e-06, 1e-05, 0.0001]},\n",
       "             pre_dispatch='2*n_jobs', refit=True, return_train_score=False,\n",
       "             scoring=None, verbose=2)"
      ]
     },
     "execution_count": 9,
     "metadata": {},
     "output_type": "execute_result"
    }
   ],
   "source": [
    "grid1 = GridSearchCV(GaussianNB(),paramsGNB,refit = True, verbose=2, cv=10, n_jobs = cores)\n",
    "grid1.fit(x_train, y_train)"
   ]
  },
  {
   "cell_type": "code",
   "execution_count": 10,
   "metadata": {
    "scrolled": false
   },
   "outputs": [
    {
     "name": "stdout",
     "output_type": "stream",
     "text": [
      "Fitting 5 folds for each of 14 candidates, totalling 70 fits\n"
     ]
    },
    {
     "name": "stderr",
     "output_type": "stream",
     "text": [
      "[Parallel(n_jobs=6)]: Using backend LokyBackend with 6 concurrent workers.\n",
      "[Parallel(n_jobs=6)]: Done  32 tasks      | elapsed:    1.3s\n",
      "[Parallel(n_jobs=6)]: Done  70 out of  70 | elapsed:    1.6s finished\n",
      "/home/emedvedev/.local/lib64/python3.6/site-packages/sklearn/linear_model/logistic.py:432: FutureWarning: Default solver will be changed to 'lbfgs' in 0.22. Specify a solver to silence this warning.\n",
      "  FutureWarning)\n"
     ]
    },
    {
     "data": {
      "text/plain": [
       "GridSearchCV(cv=5, error_score='raise-deprecating',\n",
       "             estimator=LogisticRegression(C=1.0, class_weight=None, dual=False,\n",
       "                                          fit_intercept=True,\n",
       "                                          intercept_scaling=1, l1_ratio=None,\n",
       "                                          max_iter=100, multi_class='warn',\n",
       "                                          n_jobs=None, penalty='l2',\n",
       "                                          random_state=None, solver='warn',\n",
       "                                          tol=0.0001, verbose=0,\n",
       "                                          warm_start=False),\n",
       "             iid='warn', n_jobs=6,\n",
       "             param_grid={'C': array([1.e-03, 1.e-02, 1.e-01, 1.e+00, 1.e+01, 1.e+02, 1.e+03]),\n",
       "                         'penalty': ['l1', 'l2']},\n",
       "             pre_dispatch='2*n_jobs', refit=True, return_train_score=False,\n",
       "             scoring=None, verbose=2)"
      ]
     },
     "execution_count": 10,
     "metadata": {},
     "output_type": "execute_result"
    }
   ],
   "source": [
    "grid2 = GridSearchCV(LogisticRegression(),paramsLR,refit = True, verbose=2, cv=5, n_jobs = cores)\n",
    "grid2.fit(x_train, y_train)"
   ]
  },
  {
   "cell_type": "code",
   "execution_count": 11,
   "metadata": {},
   "outputs": [
    {
     "name": "stdout",
     "output_type": "stream",
     "text": [
      "Наилучшие значения параметров: {'priors': [0.5, 0.5], 'var_smoothing': 1e-12}\n",
      "Наилучшее значение кросс-валидац. правильности:0.79\n",
      "Правильность на тестовом наборе: 0.78\n"
     ]
    }
   ],
   "source": [
    "print(\"Наилучшие значения параметров: {}\".format(grid1.best_params_))\n",
    "print(\"Наилучшее значение кросс-валидац. правильности:{:.2f}\".format(grid1.best_score_))\n",
    "print(\"Правильность на тестовом наборе: {:.2f}\".format(grid1.score(x_test, y_test)))"
   ]
  },
  {
   "cell_type": "code",
   "execution_count": 12,
   "metadata": {},
   "outputs": [
    {
     "name": "stdout",
     "output_type": "stream",
     "text": [
      "Наилучшие значения параметров: {'C': 0.1, 'penalty': 'l2'}\n",
      "Наилучшее значение кросс-валидац. правильности:0.79\n",
      "Правильность на тестовом наборе: 0.78\n"
     ]
    }
   ],
   "source": [
    "print(\"Наилучшие значения параметров: {}\".format(grid2.best_params_))\n",
    "print(\"Наилучшее значение кросс-валидац. правильности:{:.2f}\".format(grid2.best_score_))\n",
    "print(\"Правильность на тестовом наборе: {:.2f}\".format(grid2.score(x_test, y_test)))"
   ]
  },
  {
   "cell_type": "raw",
   "metadata": {},
   "source": [
    "predicted1 = pd.DataFrame({'Surv1' : grid1.best_estimator_.predict(x_test)})"
   ]
  },
  {
   "cell_type": "raw",
   "metadata": {},
   "source": [
    "predicted2 = pd.DataFrame({'Surv2' : grid2.best_estimator_.predict(x_test)})"
   ]
  },
  {
   "cell_type": "code",
   "execution_count": 13,
   "metadata": {
    "scrolled": false
   },
   "outputs": [],
   "source": [
    "results1 = grid1.cv_results_\n",
    "results2 = grid2.cv_results_"
   ]
  },
  {
   "cell_type": "code",
   "execution_count": 14,
   "metadata": {},
   "outputs": [],
   "source": [
    "col1 = str(results1['params'])\n",
    "col2 = str(results2['params'])\n",
    "col1 = col1[1:-1].split(\"}, \")\n",
    "col2 = col2[1:-1].split(\"}, \")"
   ]
  },
  {
   "cell_type": "code",
   "execution_count": 15,
   "metadata": {},
   "outputs": [],
   "source": [
    "resmas1 = results1['mean_test_score']\n",
    "resmas2 = results2['mean_test_score']\n",
    "dataf1 = pd.DataFrame(resmas1,col1)\n",
    "dataf2 = pd.DataFrame(resmas2,col2)"
   ]
  },
  {
   "cell_type": "code",
   "execution_count": 16,
   "metadata": {},
   "outputs": [
    {
     "data": {
      "text/html": [
       "<div>\n",
       "<style scoped>\n",
       "    .dataframe tbody tr th:only-of-type {\n",
       "        vertical-align: middle;\n",
       "    }\n",
       "\n",
       "    .dataframe tbody tr th {\n",
       "        vertical-align: top;\n",
       "    }\n",
       "\n",
       "    .dataframe thead th {\n",
       "        text-align: right;\n",
       "    }\n",
       "</style>\n",
       "<table border=\"1\" class=\"dataframe\">\n",
       "  <thead>\n",
       "    <tr style=\"text-align: right;\">\n",
       "      <th></th>\n",
       "      <th>0</th>\n",
       "    </tr>\n",
       "  </thead>\n",
       "  <tbody>\n",
       "    <tr>\n",
       "      <th>{'priors': [0.1, 0.9], 'var_smoothing': 1e-12</th>\n",
       "      <td>0.394864</td>\n",
       "    </tr>\n",
       "    <tr>\n",
       "      <th>{'priors': [0.1, 0.9], 'var_smoothing': 1e-11</th>\n",
       "      <td>0.394864</td>\n",
       "    </tr>\n",
       "    <tr>\n",
       "      <th>{'priors': [0.1, 0.9], 'var_smoothing': 1e-10</th>\n",
       "      <td>0.394864</td>\n",
       "    </tr>\n",
       "    <tr>\n",
       "      <th>{'priors': [0.1, 0.9], 'var_smoothing': 1e-09</th>\n",
       "      <td>0.394864</td>\n",
       "    </tr>\n",
       "    <tr>\n",
       "      <th>{'priors': [0.1, 0.9], 'var_smoothing': 1e-08</th>\n",
       "      <td>0.394864</td>\n",
       "    </tr>\n",
       "    <tr>\n",
       "      <th>{'priors': [0.1, 0.9], 'var_smoothing': 1e-07</th>\n",
       "      <td>0.394864</td>\n",
       "    </tr>\n",
       "    <tr>\n",
       "      <th>{'priors': [0.1, 0.9], 'var_smoothing': 1e-06</th>\n",
       "      <td>0.394864</td>\n",
       "    </tr>\n",
       "    <tr>\n",
       "      <th>{'priors': [0.1, 0.9], 'var_smoothing': 1e-05</th>\n",
       "      <td>0.394864</td>\n",
       "    </tr>\n",
       "    <tr>\n",
       "      <th>{'priors': [0.1, 0.9], 'var_smoothing': 0.0001</th>\n",
       "      <td>0.394864</td>\n",
       "    </tr>\n",
       "    <tr>\n",
       "      <th>{'priors': [0.2, 0.8], 'var_smoothing': 1e-12</th>\n",
       "      <td>0.552167</td>\n",
       "    </tr>\n",
       "    <tr>\n",
       "      <th>{'priors': [0.2, 0.8], 'var_smoothing': 1e-11</th>\n",
       "      <td>0.552167</td>\n",
       "    </tr>\n",
       "    <tr>\n",
       "      <th>{'priors': [0.2, 0.8], 'var_smoothing': 1e-10</th>\n",
       "      <td>0.552167</td>\n",
       "    </tr>\n",
       "    <tr>\n",
       "      <th>{'priors': [0.2, 0.8], 'var_smoothing': 1e-09</th>\n",
       "      <td>0.552167</td>\n",
       "    </tr>\n",
       "    <tr>\n",
       "      <th>{'priors': [0.2, 0.8], 'var_smoothing': 1e-08</th>\n",
       "      <td>0.552167</td>\n",
       "    </tr>\n",
       "    <tr>\n",
       "      <th>{'priors': [0.2, 0.8], 'var_smoothing': 1e-07</th>\n",
       "      <td>0.550562</td>\n",
       "    </tr>\n",
       "    <tr>\n",
       "      <th>{'priors': [0.2, 0.8], 'var_smoothing': 1e-06</th>\n",
       "      <td>0.545746</td>\n",
       "    </tr>\n",
       "    <tr>\n",
       "      <th>{'priors': [0.2, 0.8], 'var_smoothing': 1e-05</th>\n",
       "      <td>0.539326</td>\n",
       "    </tr>\n",
       "    <tr>\n",
       "      <th>{'priors': [0.2, 0.8], 'var_smoothing': 0.0001</th>\n",
       "      <td>0.428571</td>\n",
       "    </tr>\n",
       "    <tr>\n",
       "      <th>{'priors': [0.001, 0.999], 'var_smoothing': 1e-12</th>\n",
       "      <td>0.394864</td>\n",
       "    </tr>\n",
       "    <tr>\n",
       "      <th>{'priors': [0.001, 0.999], 'var_smoothing': 1e-11</th>\n",
       "      <td>0.394864</td>\n",
       "    </tr>\n",
       "    <tr>\n",
       "      <th>{'priors': [0.001, 0.999], 'var_smoothing': 1e-10</th>\n",
       "      <td>0.394864</td>\n",
       "    </tr>\n",
       "    <tr>\n",
       "      <th>{'priors': [0.001, 0.999], 'var_smoothing': 1e-09</th>\n",
       "      <td>0.394864</td>\n",
       "    </tr>\n",
       "    <tr>\n",
       "      <th>{'priors': [0.001, 0.999], 'var_smoothing': 1e-08</th>\n",
       "      <td>0.394864</td>\n",
       "    </tr>\n",
       "    <tr>\n",
       "      <th>{'priors': [0.001, 0.999], 'var_smoothing': 1e-07</th>\n",
       "      <td>0.394864</td>\n",
       "    </tr>\n",
       "    <tr>\n",
       "      <th>{'priors': [0.001, 0.999], 'var_smoothing': 1e-06</th>\n",
       "      <td>0.394864</td>\n",
       "    </tr>\n",
       "    <tr>\n",
       "      <th>{'priors': [0.001, 0.999], 'var_smoothing': 1e-05</th>\n",
       "      <td>0.394864</td>\n",
       "    </tr>\n",
       "    <tr>\n",
       "      <th>{'priors': [0.001, 0.999], 'var_smoothing': 0.0001</th>\n",
       "      <td>0.394864</td>\n",
       "    </tr>\n",
       "    <tr>\n",
       "      <th>{'priors': [0.5, 0.5], 'var_smoothing': 1e-12</th>\n",
       "      <td>0.789727</td>\n",
       "    </tr>\n",
       "    <tr>\n",
       "      <th>{'priors': [0.5, 0.5], 'var_smoothing': 1e-11</th>\n",
       "      <td>0.789727</td>\n",
       "    </tr>\n",
       "    <tr>\n",
       "      <th>{'priors': [0.5, 0.5], 'var_smoothing': 1e-10</th>\n",
       "      <td>0.789727</td>\n",
       "    </tr>\n",
       "    <tr>\n",
       "      <th>{'priors': [0.5, 0.5], 'var_smoothing': 1e-09</th>\n",
       "      <td>0.789727</td>\n",
       "    </tr>\n",
       "    <tr>\n",
       "      <th>{'priors': [0.5, 0.5], 'var_smoothing': 1e-08</th>\n",
       "      <td>0.789727</td>\n",
       "    </tr>\n",
       "    <tr>\n",
       "      <th>{'priors': [0.5, 0.5], 'var_smoothing': 1e-07</th>\n",
       "      <td>0.789727</td>\n",
       "    </tr>\n",
       "    <tr>\n",
       "      <th>{'priors': [0.5, 0.5], 'var_smoothing': 1e-06</th>\n",
       "      <td>0.789727</td>\n",
       "    </tr>\n",
       "    <tr>\n",
       "      <th>{'priors': [0.5, 0.5], 'var_smoothing': 1e-05</th>\n",
       "      <td>0.789727</td>\n",
       "    </tr>\n",
       "    <tr>\n",
       "      <th>{'priors': [0.5, 0.5], 'var_smoothing': 0.0001</th>\n",
       "      <td>0.789727</td>\n",
       "    </tr>\n",
       "    <tr>\n",
       "      <th>{'priors': [0.6, 0.4], 'var_smoothing': 1e-12</th>\n",
       "      <td>0.789727</td>\n",
       "    </tr>\n",
       "    <tr>\n",
       "      <th>{'priors': [0.6, 0.4], 'var_smoothing': 1e-11</th>\n",
       "      <td>0.789727</td>\n",
       "    </tr>\n",
       "    <tr>\n",
       "      <th>{'priors': [0.6, 0.4], 'var_smoothing': 1e-10</th>\n",
       "      <td>0.789727</td>\n",
       "    </tr>\n",
       "    <tr>\n",
       "      <th>{'priors': [0.6, 0.4], 'var_smoothing': 1e-09</th>\n",
       "      <td>0.789727</td>\n",
       "    </tr>\n",
       "    <tr>\n",
       "      <th>{'priors': [0.6, 0.4], 'var_smoothing': 1e-08</th>\n",
       "      <td>0.789727</td>\n",
       "    </tr>\n",
       "    <tr>\n",
       "      <th>{'priors': [0.6, 0.4], 'var_smoothing': 1e-07</th>\n",
       "      <td>0.789727</td>\n",
       "    </tr>\n",
       "    <tr>\n",
       "      <th>{'priors': [0.6, 0.4], 'var_smoothing': 1e-06</th>\n",
       "      <td>0.789727</td>\n",
       "    </tr>\n",
       "    <tr>\n",
       "      <th>{'priors': [0.6, 0.4], 'var_smoothing': 1e-05</th>\n",
       "      <td>0.789727</td>\n",
       "    </tr>\n",
       "    <tr>\n",
       "      <th>{'priors': [0.6, 0.4], 'var_smoothing': 0.0001</th>\n",
       "      <td>0.789727</td>\n",
       "    </tr>\n",
       "    <tr>\n",
       "      <th>{'priors': [0.49, 0.51], 'var_smoothing': 1e-12</th>\n",
       "      <td>0.789727</td>\n",
       "    </tr>\n",
       "    <tr>\n",
       "      <th>{'priors': [0.49, 0.51], 'var_smoothing': 1e-11</th>\n",
       "      <td>0.789727</td>\n",
       "    </tr>\n",
       "    <tr>\n",
       "      <th>{'priors': [0.49, 0.51], 'var_smoothing': 1e-10</th>\n",
       "      <td>0.789727</td>\n",
       "    </tr>\n",
       "    <tr>\n",
       "      <th>{'priors': [0.49, 0.51], 'var_smoothing': 1e-09</th>\n",
       "      <td>0.789727</td>\n",
       "    </tr>\n",
       "    <tr>\n",
       "      <th>{'priors': [0.49, 0.51], 'var_smoothing': 1e-08</th>\n",
       "      <td>0.789727</td>\n",
       "    </tr>\n",
       "    <tr>\n",
       "      <th>{'priors': [0.49, 0.51], 'var_smoothing': 1e-07</th>\n",
       "      <td>0.789727</td>\n",
       "    </tr>\n",
       "    <tr>\n",
       "      <th>{'priors': [0.49, 0.51], 'var_smoothing': 1e-06</th>\n",
       "      <td>0.789727</td>\n",
       "    </tr>\n",
       "    <tr>\n",
       "      <th>{'priors': [0.49, 0.51], 'var_smoothing': 1e-05</th>\n",
       "      <td>0.789727</td>\n",
       "    </tr>\n",
       "    <tr>\n",
       "      <th>{'priors': [0.49, 0.51], 'var_smoothing': 0.0001}</th>\n",
       "      <td>0.789727</td>\n",
       "    </tr>\n",
       "  </tbody>\n",
       "</table>\n",
       "</div>"
      ],
      "text/plain": [
       "                                                           0\n",
       "{'priors': [0.1, 0.9], 'var_smoothing': 1e-12       0.394864\n",
       "{'priors': [0.1, 0.9], 'var_smoothing': 1e-11       0.394864\n",
       "{'priors': [0.1, 0.9], 'var_smoothing': 1e-10       0.394864\n",
       "{'priors': [0.1, 0.9], 'var_smoothing': 1e-09       0.394864\n",
       "{'priors': [0.1, 0.9], 'var_smoothing': 1e-08       0.394864\n",
       "{'priors': [0.1, 0.9], 'var_smoothing': 1e-07       0.394864\n",
       "{'priors': [0.1, 0.9], 'var_smoothing': 1e-06       0.394864\n",
       "{'priors': [0.1, 0.9], 'var_smoothing': 1e-05       0.394864\n",
       "{'priors': [0.1, 0.9], 'var_smoothing': 0.0001      0.394864\n",
       "{'priors': [0.2, 0.8], 'var_smoothing': 1e-12       0.552167\n",
       "{'priors': [0.2, 0.8], 'var_smoothing': 1e-11       0.552167\n",
       "{'priors': [0.2, 0.8], 'var_smoothing': 1e-10       0.552167\n",
       "{'priors': [0.2, 0.8], 'var_smoothing': 1e-09       0.552167\n",
       "{'priors': [0.2, 0.8], 'var_smoothing': 1e-08       0.552167\n",
       "{'priors': [0.2, 0.8], 'var_smoothing': 1e-07       0.550562\n",
       "{'priors': [0.2, 0.8], 'var_smoothing': 1e-06       0.545746\n",
       "{'priors': [0.2, 0.8], 'var_smoothing': 1e-05       0.539326\n",
       "{'priors': [0.2, 0.8], 'var_smoothing': 0.0001      0.428571\n",
       "{'priors': [0.001, 0.999], 'var_smoothing': 1e-12   0.394864\n",
       "{'priors': [0.001, 0.999], 'var_smoothing': 1e-11   0.394864\n",
       "{'priors': [0.001, 0.999], 'var_smoothing': 1e-10   0.394864\n",
       "{'priors': [0.001, 0.999], 'var_smoothing': 1e-09   0.394864\n",
       "{'priors': [0.001, 0.999], 'var_smoothing': 1e-08   0.394864\n",
       "{'priors': [0.001, 0.999], 'var_smoothing': 1e-07   0.394864\n",
       "{'priors': [0.001, 0.999], 'var_smoothing': 1e-06   0.394864\n",
       "{'priors': [0.001, 0.999], 'var_smoothing': 1e-05   0.394864\n",
       "{'priors': [0.001, 0.999], 'var_smoothing': 0.0001  0.394864\n",
       "{'priors': [0.5, 0.5], 'var_smoothing': 1e-12       0.789727\n",
       "{'priors': [0.5, 0.5], 'var_smoothing': 1e-11       0.789727\n",
       "{'priors': [0.5, 0.5], 'var_smoothing': 1e-10       0.789727\n",
       "{'priors': [0.5, 0.5], 'var_smoothing': 1e-09       0.789727\n",
       "{'priors': [0.5, 0.5], 'var_smoothing': 1e-08       0.789727\n",
       "{'priors': [0.5, 0.5], 'var_smoothing': 1e-07       0.789727\n",
       "{'priors': [0.5, 0.5], 'var_smoothing': 1e-06       0.789727\n",
       "{'priors': [0.5, 0.5], 'var_smoothing': 1e-05       0.789727\n",
       "{'priors': [0.5, 0.5], 'var_smoothing': 0.0001      0.789727\n",
       "{'priors': [0.6, 0.4], 'var_smoothing': 1e-12       0.789727\n",
       "{'priors': [0.6, 0.4], 'var_smoothing': 1e-11       0.789727\n",
       "{'priors': [0.6, 0.4], 'var_smoothing': 1e-10       0.789727\n",
       "{'priors': [0.6, 0.4], 'var_smoothing': 1e-09       0.789727\n",
       "{'priors': [0.6, 0.4], 'var_smoothing': 1e-08       0.789727\n",
       "{'priors': [0.6, 0.4], 'var_smoothing': 1e-07       0.789727\n",
       "{'priors': [0.6, 0.4], 'var_smoothing': 1e-06       0.789727\n",
       "{'priors': [0.6, 0.4], 'var_smoothing': 1e-05       0.789727\n",
       "{'priors': [0.6, 0.4], 'var_smoothing': 0.0001      0.789727\n",
       "{'priors': [0.49, 0.51], 'var_smoothing': 1e-12     0.789727\n",
       "{'priors': [0.49, 0.51], 'var_smoothing': 1e-11     0.789727\n",
       "{'priors': [0.49, 0.51], 'var_smoothing': 1e-10     0.789727\n",
       "{'priors': [0.49, 0.51], 'var_smoothing': 1e-09     0.789727\n",
       "{'priors': [0.49, 0.51], 'var_smoothing': 1e-08     0.789727\n",
       "{'priors': [0.49, 0.51], 'var_smoothing': 1e-07     0.789727\n",
       "{'priors': [0.49, 0.51], 'var_smoothing': 1e-06     0.789727\n",
       "{'priors': [0.49, 0.51], 'var_smoothing': 1e-05     0.789727\n",
       "{'priors': [0.49, 0.51], 'var_smoothing': 0.0001}   0.789727"
      ]
     },
     "execution_count": 16,
     "metadata": {},
     "output_type": "execute_result"
    }
   ],
   "source": [
    "dataf1"
   ]
  },
  {
   "cell_type": "code",
   "execution_count": 17,
   "metadata": {},
   "outputs": [
    {
     "data": {
      "text/html": [
       "<div>\n",
       "<style scoped>\n",
       "    .dataframe tbody tr th:only-of-type {\n",
       "        vertical-align: middle;\n",
       "    }\n",
       "\n",
       "    .dataframe tbody tr th {\n",
       "        vertical-align: top;\n",
       "    }\n",
       "\n",
       "    .dataframe thead th {\n",
       "        text-align: right;\n",
       "    }\n",
       "</style>\n",
       "<table border=\"1\" class=\"dataframe\">\n",
       "  <thead>\n",
       "    <tr style=\"text-align: right;\">\n",
       "      <th></th>\n",
       "      <th>0</th>\n",
       "    </tr>\n",
       "  </thead>\n",
       "  <tbody>\n",
       "    <tr>\n",
       "      <th>{'C': 0.001, 'penalty': 'l1'</th>\n",
       "      <td>0.605136</td>\n",
       "    </tr>\n",
       "    <tr>\n",
       "      <th>{'C': 0.001, 'penalty': 'l2'</th>\n",
       "      <td>0.613162</td>\n",
       "    </tr>\n",
       "    <tr>\n",
       "      <th>{'C': 0.01, 'penalty': 'l1'</th>\n",
       "      <td>0.605136</td>\n",
       "    </tr>\n",
       "    <tr>\n",
       "      <th>{'C': 0.01, 'penalty': 'l2'</th>\n",
       "      <td>0.666132</td>\n",
       "    </tr>\n",
       "    <tr>\n",
       "      <th>{'C': 0.1, 'penalty': 'l1'</th>\n",
       "      <td>0.788122</td>\n",
       "    </tr>\n",
       "    <tr>\n",
       "      <th>{'C': 0.1, 'penalty': 'l2'</th>\n",
       "      <td>0.789727</td>\n",
       "    </tr>\n",
       "    <tr>\n",
       "      <th>{'C': 1.0, 'penalty': 'l1'</th>\n",
       "      <td>0.789727</td>\n",
       "    </tr>\n",
       "    <tr>\n",
       "      <th>{'C': 1.0, 'penalty': 'l2'</th>\n",
       "      <td>0.789727</td>\n",
       "    </tr>\n",
       "    <tr>\n",
       "      <th>{'C': 10.0, 'penalty': 'l1'</th>\n",
       "      <td>0.789727</td>\n",
       "    </tr>\n",
       "    <tr>\n",
       "      <th>{'C': 10.0, 'penalty': 'l2'</th>\n",
       "      <td>0.789727</td>\n",
       "    </tr>\n",
       "    <tr>\n",
       "      <th>{'C': 100.0, 'penalty': 'l1'</th>\n",
       "      <td>0.789727</td>\n",
       "    </tr>\n",
       "    <tr>\n",
       "      <th>{'C': 100.0, 'penalty': 'l2'</th>\n",
       "      <td>0.789727</td>\n",
       "    </tr>\n",
       "    <tr>\n",
       "      <th>{'C': 1000.0, 'penalty': 'l1'</th>\n",
       "      <td>0.789727</td>\n",
       "    </tr>\n",
       "    <tr>\n",
       "      <th>{'C': 1000.0, 'penalty': 'l2'}</th>\n",
       "      <td>0.789727</td>\n",
       "    </tr>\n",
       "  </tbody>\n",
       "</table>\n",
       "</div>"
      ],
      "text/plain": [
       "                                       0\n",
       "{'C': 0.001, 'penalty': 'l1'    0.605136\n",
       "{'C': 0.001, 'penalty': 'l2'    0.613162\n",
       "{'C': 0.01, 'penalty': 'l1'     0.605136\n",
       "{'C': 0.01, 'penalty': 'l2'     0.666132\n",
       "{'C': 0.1, 'penalty': 'l1'      0.788122\n",
       "{'C': 0.1, 'penalty': 'l2'      0.789727\n",
       "{'C': 1.0, 'penalty': 'l1'      0.789727\n",
       "{'C': 1.0, 'penalty': 'l2'      0.789727\n",
       "{'C': 10.0, 'penalty': 'l1'     0.789727\n",
       "{'C': 10.0, 'penalty': 'l2'     0.789727\n",
       "{'C': 100.0, 'penalty': 'l1'    0.789727\n",
       "{'C': 100.0, 'penalty': 'l2'    0.789727\n",
       "{'C': 1000.0, 'penalty': 'l1'   0.789727\n",
       "{'C': 1000.0, 'penalty': 'l2'}  0.789727"
      ]
     },
     "execution_count": 17,
     "metadata": {},
     "output_type": "execute_result"
    }
   ],
   "source": [
    "dataf2"
   ]
  },
  {
   "cell_type": "code",
   "execution_count": 18,
   "metadata": {},
   "outputs": [
    {
     "data": {
      "image/png": "[encoded data removed]",
      "text/plain": [
       "<Figure size 1152x576 with 1 Axes>"
      ]
     },
     "metadata": {
      "needs_background": "light"
     },
     "output_type": "display_data"
    }
   ],
   "source": [
    "y = np.array(list(resmas1))\n",
    "fig = plt.figure(figsize=(16, 8))\n",
    "ax = fig.add_subplot(111)\n",
    "\n",
    "ax.plot(col1, y, linewidth = 5)\n",
    "\n",
    "ax.grid(True, which='major', color='k', linestyle='solid')\n",
    "\n",
    "plt.xticks(rotation=90)\n",
    "plt.rc('xtick', labelsize=16) \n",
    "plt.rc('ytick', labelsize=20) \n",
    "\n",
    "plt.show()"
   ]
  },
  {
   "cell_type": "code",
   "execution_count": 19,
   "metadata": {},
   "outputs": [
    {
     "data": {
      "image/png": "[encoded data removed]",
      "text/plain": [
       "<Figure size 1152x576 with 1 Axes>"
      ]
     },
     "metadata": {
      "needs_background": "light"
     },
     "output_type": "display_data"
    }
   ],
   "source": [
    "y = np.array(list(resmas2))\n",
    "fig = plt.figure(figsize=(16, 8))\n",
    "ax = fig.add_subplot(111)\n",
    "\n",
    "ax.plot(col2, y, linewidth = 5)\n",
    "\n",
    "ax.grid(True, which='major', color='k', linestyle='solid')\n",
    "\n",
    "plt.xticks(rotation=90)\n",
    "plt.rc('xtick', labelsize=16) \n",
    "plt.rc('ytick', labelsize=20) \n",
    "\n",
    "plt.show()\n",
    "\n",
    "\n",
    "#сравнить методы, написать который лучше"
   ]
  },
  {
   "cell_type": "raw",
   "metadata": {},
   "source": [
    "dataf1.plot(kind='line', title =\"score\", figsize=(15, 5), fontsize=14, legend=False, rot=90)\n",
    "dataf2.plot(kind='line', title =\"score\", figsize=(15, 5), fontsize=14, legend=False, rot=90)"
   ]
  },
  {
   "cell_type": "raw",
   "metadata": {},
   "source": [
    "result1 = pd.concat([x_te,  predicted1],  axis=1)\n",
    "result2 = pd.concat([x_te,  predicted2],  axis=1)\n",
    "tests = pd.concat([x_te,  y_test],  axis=1)"
   ]
  },
  {
   "cell_type": "raw",
   "metadata": {},
   "source": [
    "def rule(x):\n",
    "    return (x // 10)\n",
    "\n",
    "result1['Group'] = result1.apply(lambda x: rule(x['Age']), axis =  1)\n",
    "result2['Group'] = result2.apply(lambda x: rule(x['Age']), axis =  1)\n",
    "tests['Group'] = tests.apply(lambda x: rule(x['Age']), axis =  1)"
   ]
  },
  {
   "cell_type": "raw",
   "metadata": {},
   "source": [
    "pvt1 = result1.pivot_table(index=['Group'], columns=['Surv1', 'Sex'], values='PassengerId', aggfunc='count')\n",
    "pvt2 = result2.pivot_table(index=['Group'], columns=['Surv2', 'Sex'], values='PassengerId', aggfunc='count')\n",
    "pvt3 = tests.pivot_table(index=['Group'], columns=['Survived', 'Sex'], values='PassengerId', aggfunc='count')"
   ]
  },
  {
   "cell_type": "raw",
   "metadata": {
    "scrolled": false
   },
   "source": [
    "pvt1.plot(kind='bar', title =\"predict1\", figsize=(10, 10), legend=True, fontsize=14, stacked=True)\n",
    "pvt2.plot(kind='bar', title =\"predict2\", figsize=(10, 10), legend=True, fontsize=14, stacked=True)\n",
    "pvt3.plot(kind='bar', title =\"real\", figsize=(10, 10), legend=True, fontsize=14, stacked=True)\n",
    "plt.show()"
   ]
  }
 ],
 "metadata": {
  "kernelspec": {
   "display_name": "Python 3",
   "language": "python",
   "name": "python3"
  },
  "language_info": {
   "codemirror_mode": {
    "name": "ipython",
    "version": 3
   },
   "file_extension": ".py",
   "mimetype": "text/x-python",
   "name": "python",
   "nbconvert_exporter": "python",
   "pygments_lexer": "ipython3",
   "version": "3.6.9"
  }
 },
 "nbformat": 4,
 "nbformat_minor": 2
}
